{
 "cells": [
  {
   "cell_type": "code",
   "id": "initial_id",
   "metadata": {
    "collapsed": true,
    "ExecuteTime": {
     "end_time": "2024-09-12T11:18:06.428861Z",
     "start_time": "2024-09-12T11:18:06.366047Z"
    }
   },
   "source": [
    "import pandas as pd\n",
    "from neo4j import GraphDatabase\n",
    "import time"
   ],
   "outputs": [],
   "execution_count": 1
  },
  {
   "metadata": {
    "ExecuteTime": {
     "end_time": "2024-09-12T11:18:10.198712Z",
     "start_time": "2024-09-12T11:18:10.193720Z"
    }
   },
   "cell_type": "code",
   "source": "driver = GraphDatabase.driver(\"bolt://localhost:7687\", auth=(\"neo4j\", \"password\"))",
   "id": "35505074599918e3",
   "outputs": [],
   "execution_count": 2
  },
  {
   "metadata": {
    "ExecuteTime": {
     "end_time": "2024-09-12T11:18:12.625042Z",
     "start_time": "2024-09-12T11:18:12.607260Z"
    }
   },
   "cell_type": "code",
   "source": [
    "def batched_import(statement, df, batch_size=1000):\n",
    "    \"\"\"\n",
    "    Import a dataframe into Neo4j using a batched approach.\n",
    "    Parameters: statement is the Cypher query to execute, df is the dataframe to import, and batch_size is the number of rows to import in each batch.\n",
    "    \"\"\"\n",
    "    total = len(df)\n",
    "    start_s = time.time()\n",
    "    for start in range(0,total, batch_size):\n",
    "        batch = df.iloc[start: min(start+batch_size,total)]\n",
    "        result = driver.execute_query(\"UNWIND $rows AS value \" + statement,\n",
    "                                      rows=batch.to_dict('records'),\n",
    "                                      database_=\"neo4j\")\n",
    "        print(result.summary.counters)\n",
    "    print(f'{total} rows in { time.time() - start_s} s.')\n",
    "    return total"
   ],
   "id": "142c78ffe0d65a1f",
   "outputs": [],
   "execution_count": 3
  },
  {
   "metadata": {
    "ExecuteTime": {
     "end_time": "2024-09-12T11:18:15.473494Z",
     "start_time": "2024-09-12T11:18:15.210038Z"
    }
   },
   "cell_type": "code",
   "source": [
    "statements = \"\"\"\n",
    "create constraint chunk_id if not exists for (c:__Chunk__) require c.id is unique;\n",
    "create constraint document_id if not exists for (d:__Document__) require d.id is unique;\n",
    "create constraint entity_id if not exists for (c:__Community__) require c.community is unique;\n",
    "create constraint entity_id if not exists for (e:__Entity__) require e.id is unique;\n",
    "create constraint entity_title if not exists for (e:__Entity__) require e.name is unique;\n",
    "create constraint entity_title if not exists for (e:__Covariate__) require e.title is unique;\n",
    "create constraint related_id if not exists for ()-[rel:RELATED]->() require rel.id is unique;\n",
    "\"\"\".split(\";\")\n",
    "\n",
    "for statement in statements:\n",
    "    if len((statement or \"\").strip()) > 0:\n",
    "        print(statement)\n",
    "        driver.execute_query(statement)"
   ],
   "id": "dab57dbf3e20ce74",
   "outputs": [
    {
     "name": "stdout",
     "output_type": "stream",
     "text": [
      "\n",
      "create constraint chunk_id if not exists for (c:__Chunk__) require c.id is unique\n",
      "\n",
      "create constraint document_id if not exists for (d:__Document__) require d.id is unique\n",
      "\n",
      "create constraint entity_id if not exists for (c:__Community__) require c.community is unique\n",
      "\n",
      "create constraint entity_id if not exists for (e:__Entity__) require e.id is unique\n",
      "\n",
      "create constraint entity_title if not exists for (e:__Entity__) require e.name is unique\n",
      "\n",
      "create constraint entity_title if not exists for (e:__Covariate__) require e.title is unique\n",
      "\n",
      "create constraint related_id if not exists for ()-[rel:RELATED]->() require rel.id is unique\n"
     ]
    }
   ],
   "execution_count": 4
  },
  {
   "metadata": {
    "ExecuteTime": {
     "end_time": "2024-09-12T11:18:33.614052Z",
     "start_time": "2024-09-12T11:18:33.598365Z"
    }
   },
   "cell_type": "code",
   "source": [
    "doc_df = pd.read_parquet('/Users/shaansuri/Downloads/artifacts/create_final_documents.parquet', columns=[\"id\", \"title\"])\n",
    "print(doc_df.head(2))"
   ],
   "id": "b46126024d461744",
   "outputs": [
    {
     "name": "stdout",
     "output_type": "stream",
     "text": [
      "                                 id     title\n",
      "0  c305886e4aa2f6efcf64b57762777055  book.txt\n"
     ]
    }
   ],
   "execution_count": 7
  },
  {
   "metadata": {
    "ExecuteTime": {
     "end_time": "2024-09-12T11:18:37.379273Z",
     "start_time": "2024-09-12T11:18:37.375136Z"
    }
   },
   "cell_type": "code",
   "source": [
    "# import documents\n",
    "statement = \"\"\"\n",
    "MERGE (d:__Document__ {id:value.id})\n",
    "SET d += value {.title}\n",
    "\"\"\""
   ],
   "id": "251fce1cebc3c58d",
   "outputs": [],
   "execution_count": 8
  },
  {
   "metadata": {
    "ExecuteTime": {
     "end_time": "2024-09-12T11:19:49.397701Z",
     "start_time": "2024-09-12T11:19:49.355414Z"
    }
   },
   "cell_type": "code",
   "source": [
    "text_df = pd.read_parquet('/Users/shaansuri/Downloads/artifacts/create_final_text_units.parquet',\n",
    "                          columns=[\"id\",\"text\",\"n_tokens\",\"document_ids\"])\n",
    "text_df.head(2)"
   ],
   "id": "e54e5e68d0f2abd5",
   "outputs": [
    {
     "data": {
      "text/plain": [
       "                                 id  \\\n",
       "0  680dd6d2a970a49082fa4f34bf63a34e   \n",
       "1  95f1f8f5bdbf0bee3a2c6f2f4a4907f6   \n",
       "\n",
       "                                                text  n_tokens  \\\n",
       "0  ﻿The Project Gutenberg eBook of A Christmas Ca...       300   \n",
       "1   THE PROJECT GUTENBERG EBOOK A CHRISTMAS CAROL...       300   \n",
       "\n",
       "                         document_ids  \n",
       "0  [c305886e4aa2f6efcf64b57762777055]  \n",
       "1  [c305886e4aa2f6efcf64b57762777055]  "
      ],
      "text/html": [
       "<div>\n",
       "<style scoped>\n",
       "    .dataframe tbody tr th:only-of-type {\n",
       "        vertical-align: middle;\n",
       "    }\n",
       "\n",
       "    .dataframe tbody tr th {\n",
       "        vertical-align: top;\n",
       "    }\n",
       "\n",
       "    .dataframe thead th {\n",
       "        text-align: right;\n",
       "    }\n",
       "</style>\n",
       "<table border=\"1\" class=\"dataframe\">\n",
       "  <thead>\n",
       "    <tr style=\"text-align: right;\">\n",
       "      <th></th>\n",
       "      <th>id</th>\n",
       "      <th>text</th>\n",
       "      <th>n_tokens</th>\n",
       "      <th>document_ids</th>\n",
       "    </tr>\n",
       "  </thead>\n",
       "  <tbody>\n",
       "    <tr>\n",
       "      <th>0</th>\n",
       "      <td>680dd6d2a970a49082fa4f34bf63a34e</td>\n",
       "      <td>﻿The Project Gutenberg eBook of A Christmas Ca...</td>\n",
       "      <td>300</td>\n",
       "      <td>[c305886e4aa2f6efcf64b57762777055]</td>\n",
       "    </tr>\n",
       "    <tr>\n",
       "      <th>1</th>\n",
       "      <td>95f1f8f5bdbf0bee3a2c6f2f4a4907f6</td>\n",
       "      <td>THE PROJECT GUTENBERG EBOOK A CHRISTMAS CAROL...</td>\n",
       "      <td>300</td>\n",
       "      <td>[c305886e4aa2f6efcf64b57762777055]</td>\n",
       "    </tr>\n",
       "  </tbody>\n",
       "</table>\n",
       "</div>"
      ]
     },
     "execution_count": 10,
     "metadata": {},
     "output_type": "execute_result"
    }
   ],
   "execution_count": 10
  },
  {
   "metadata": {
    "ExecuteTime": {
     "end_time": "2024-09-12T11:20:02.939753Z",
     "start_time": "2024-09-12T11:20:01.943988Z"
    }
   },
   "cell_type": "code",
   "source": [
    "statement = \"\"\"\n",
    "MERGE (c:__Chunk__ {id:value.id})\n",
    "SET c += value {.text, .n_tokens}\n",
    "WITH c, value\n",
    "UNWIND value.document_ids AS document\n",
    "MATCH (d:__Document__ {id:document})\n",
    "MERGE (c)-[:PART_OF]->(d)\n",
    "\"\"\"\n",
    "\n",
    "batched_import(statement, text_df)"
   ],
   "id": "b40a396d35bcbddd",
   "outputs": [
    {
     "name": "stdout",
     "output_type": "stream",
     "text": [
      "{'_contains_updates': True, 'properties_set': 462}\n",
      "231 rows in 0.9863979816436768 s.\n"
     ]
    },
    {
     "data": {
      "text/plain": [
       "231"
      ]
     },
     "execution_count": 11,
     "metadata": {},
     "output_type": "execute_result"
    }
   ],
   "execution_count": 11
  },
  {
   "metadata": {
    "ExecuteTime": {
     "end_time": "2024-09-12T11:20:55.919368Z",
     "start_time": "2024-09-12T11:20:55.883042Z"
    }
   },
   "cell_type": "code",
   "source": [
    "entity_df = pd.read_parquet('/Users/shaansuri/Downloads/artifacts/create_final_entities.parquet',\n",
    "                            columns=[\"name\",\"type\",\"description\",\"human_readable_id\",\"id\",\"description_embedding\",\"text_unit_ids\"])\n",
    "entity_df.head(5)"
   ],
   "id": "c086de16a1201866",
   "outputs": [
    {
     "data": {
      "text/plain": [
       "                  name            type  \\\n",
       "0  \"PROJECT GUTENBERG\"  \"ORGANIZATION\"   \n",
       "1      \"UNITED STATES\"           \"GEO\"   \n",
       "2    \"CHARLES DICKENS\"        \"PERSON\"   \n",
       "3     \"ARTHUR RACKHAM\"        \"PERSON\"   \n",
       "4  \"A CHRISTMAS CAROL\"         \"EVENT\"   \n",
       "\n",
       "                                         description  human_readable_id  \\\n",
       "0  Project Gutenberg is a pioneering organization...                  0   \n",
       "1  The United States is prominently recognized fo...                  1   \n",
       "2  Charles Dickens is the renowned British noveli...                  2   \n",
       "3  Arthur Rackham is renowned as an illustrator, ...                  3   \n",
       "4  \"A Christmas Carol\" is a classic literary work...                  4   \n",
       "\n",
       "                                 id  \\\n",
       "0  b45241d70f0e43fca764df95b2b81f77   \n",
       "1  4119fd06010c494caa07f439b333f4c5   \n",
       "2  d3835bf3dda84ead99deadbeac5d0d7d   \n",
       "3  077d2820ae1845bcbb1803379a3d1eae   \n",
       "4  3671ea0dd4e84c1a9b02c5ab2c8f4bac   \n",
       "\n",
       "                               description_embedding  \\\n",
       "0  [-0.020793898031115532, 0.02951139025390148, 0...   \n",
       "1  [-0.009704762138426304, 0.013335365802049637, ...   \n",
       "2  [0.05020756274461746, 0.0023800835479050875, -...   \n",
       "3  [0.016978472471237183, 0.01494782418012619, -0...   \n",
       "4  [-0.011152847670018673, 0.01469416357576847, -...   \n",
       "\n",
       "                                       text_unit_ids  \n",
       "0  [01e84646075b255eab0a34d872336a89, 10bab8e9773...  \n",
       "1  [01e84646075b255eab0a34d872336a89, 28f242c4515...  \n",
       "2  [680dd6d2a970a49082fa4f34bf63a34e, 95f1f8f5bdb...  \n",
       "3  [680dd6d2a970a49082fa4f34bf63a34e, 95f1f8f5bdb...  \n",
       "4  [680dd6d2a970a49082fa4f34bf63a34e, 95f1f8f5bdb...  "
      ],
      "text/html": [
       "<div>\n",
       "<style scoped>\n",
       "    .dataframe tbody tr th:only-of-type {\n",
       "        vertical-align: middle;\n",
       "    }\n",
       "\n",
       "    .dataframe tbody tr th {\n",
       "        vertical-align: top;\n",
       "    }\n",
       "\n",
       "    .dataframe thead th {\n",
       "        text-align: right;\n",
       "    }\n",
       "</style>\n",
       "<table border=\"1\" class=\"dataframe\">\n",
       "  <thead>\n",
       "    <tr style=\"text-align: right;\">\n",
       "      <th></th>\n",
       "      <th>name</th>\n",
       "      <th>type</th>\n",
       "      <th>description</th>\n",
       "      <th>human_readable_id</th>\n",
       "      <th>id</th>\n",
       "      <th>description_embedding</th>\n",
       "      <th>text_unit_ids</th>\n",
       "    </tr>\n",
       "  </thead>\n",
       "  <tbody>\n",
       "    <tr>\n",
       "      <th>0</th>\n",
       "      <td>\"PROJECT GUTENBERG\"</td>\n",
       "      <td>\"ORGANIZATION\"</td>\n",
       "      <td>Project Gutenberg is a pioneering organization...</td>\n",
       "      <td>0</td>\n",
       "      <td>b45241d70f0e43fca764df95b2b81f77</td>\n",
       "      <td>[-0.020793898031115532, 0.02951139025390148, 0...</td>\n",
       "      <td>[01e84646075b255eab0a34d872336a89, 10bab8e9773...</td>\n",
       "    </tr>\n",
       "    <tr>\n",
       "      <th>1</th>\n",
       "      <td>\"UNITED STATES\"</td>\n",
       "      <td>\"GEO\"</td>\n",
       "      <td>The United States is prominently recognized fo...</td>\n",
       "      <td>1</td>\n",
       "      <td>4119fd06010c494caa07f439b333f4c5</td>\n",
       "      <td>[-0.009704762138426304, 0.013335365802049637, ...</td>\n",
       "      <td>[01e84646075b255eab0a34d872336a89, 28f242c4515...</td>\n",
       "    </tr>\n",
       "    <tr>\n",
       "      <th>2</th>\n",
       "      <td>\"CHARLES DICKENS\"</td>\n",
       "      <td>\"PERSON\"</td>\n",
       "      <td>Charles Dickens is the renowned British noveli...</td>\n",
       "      <td>2</td>\n",
       "      <td>d3835bf3dda84ead99deadbeac5d0d7d</td>\n",
       "      <td>[0.05020756274461746, 0.0023800835479050875, -...</td>\n",
       "      <td>[680dd6d2a970a49082fa4f34bf63a34e, 95f1f8f5bdb...</td>\n",
       "    </tr>\n",
       "    <tr>\n",
       "      <th>3</th>\n",
       "      <td>\"ARTHUR RACKHAM\"</td>\n",
       "      <td>\"PERSON\"</td>\n",
       "      <td>Arthur Rackham is renowned as an illustrator, ...</td>\n",
       "      <td>3</td>\n",
       "      <td>077d2820ae1845bcbb1803379a3d1eae</td>\n",
       "      <td>[0.016978472471237183, 0.01494782418012619, -0...</td>\n",
       "      <td>[680dd6d2a970a49082fa4f34bf63a34e, 95f1f8f5bdb...</td>\n",
       "    </tr>\n",
       "    <tr>\n",
       "      <th>4</th>\n",
       "      <td>\"A CHRISTMAS CAROL\"</td>\n",
       "      <td>\"EVENT\"</td>\n",
       "      <td>\"A Christmas Carol\" is a classic literary work...</td>\n",
       "      <td>4</td>\n",
       "      <td>3671ea0dd4e84c1a9b02c5ab2c8f4bac</td>\n",
       "      <td>[-0.011152847670018673, 0.01469416357576847, -...</td>\n",
       "      <td>[680dd6d2a970a49082fa4f34bf63a34e, 95f1f8f5bdb...</td>\n",
       "    </tr>\n",
       "  </tbody>\n",
       "</table>\n",
       "</div>"
      ]
     },
     "execution_count": 13,
     "metadata": {},
     "output_type": "execute_result"
    }
   ],
   "execution_count": 13
  },
  {
   "metadata": {},
   "cell_type": "code",
   "outputs": [],
   "execution_count": null,
   "source": [
    "entity_statement = \"\"\"\n",
    "MERGE (e:__Entity__ {id:value.id})\n",
    "SET e += value {.human_readable_id, .description, name:replace(value.name,'\"','')}\n",
    "WITH e, value\n",
    "CALL db.create.setNodeVectorProperty(e, \"description_embedding\", value.description_embedding)\n",
    "CALL apoc.create.addLabels(e, case when coalesce(value.type,\"\") = \"\" then [] else [apoc.text.upperCamelCase(replace(value.type,'\"',''))] end) yield node\n",
    "UNWIND value.text_unit_ids AS text_unit\n",
    "MATCH (c:__Chunk__ {id:text_unit})\n",
    "MERGE (c)-[:HAS_ENTITY]->(e)\n",
    "\"\"\"\n",
    "\n",
    "batched_import(entity_statement, entity_df)"
   ],
   "id": "a7780959937ea0fa"
  },
  {
   "metadata": {
    "ExecuteTime": {
     "end_time": "2024-09-12T11:21:50.283822Z",
     "start_time": "2024-09-12T11:21:50.251756Z"
    }
   },
   "cell_type": "code",
   "source": [
    "rel_df = pd.read_parquet('/Users/shaansuri/Downloads/artifacts/create_final_relationships.parquet',\n",
    "                         columns=[\"source\",\"target\",\"id\",\"rank\",\"weight\",\"human_readable_id\",\"description\",\"text_unit_ids\"])\n",
    "rel_df.head(5)"
   ],
   "id": "f40ddb8697915507",
   "outputs": [
    {
     "data": {
      "text/plain": [
       "                source                                             target  \\\n",
       "0  \"PROJECT GUTENBERG\"                                \"A CHRISTMAS CAROL\"   \n",
       "1  \"PROJECT GUTENBERG\"                                    \"SUZANNE SHELL\"   \n",
       "2  \"PROJECT GUTENBERG\"                                \"JANET BLENKINSHIP\"   \n",
       "3  \"PROJECT GUTENBERG\"                                    \"UNITED STATES\"   \n",
       "4  \"PROJECT GUTENBERG\"  \"GENERAL TERMS OF USE AND REDISTRIBUTING PROJE...   \n",
       "\n",
       "                                 id  rank  weight human_readable_id  \\\n",
       "0  b84d71ed9c3b45819eb3205fd28e13a0    20     1.0                 0   \n",
       "1  b0b464bc92a541e48547fe9738378dab    15     1.0                 1   \n",
       "2  44c65dda6fb7472dae36f6eea720ab47    15     1.0                 2   \n",
       "3  5d97ff82691c4482973d73d1860e4757    15     8.0                 3   \n",
       "4  2567445079794d1e84f17abc48776002    14     1.0                 4   \n",
       "\n",
       "                                         description  \\\n",
       "0  \"Project Gutenberg is responsible for releasin...   \n",
       "1  \"Suzanne Shell produced the eBook version of '...   \n",
       "2  \"Janet Blenkinship produced the eBook version ...   \n",
       "3  Project Gutenberg operates within the United S...   \n",
       "4  \"Project Gutenberg establishes and enforces th...   \n",
       "\n",
       "                                       text_unit_ids  \n",
       "0                 [680dd6d2a970a49082fa4f34bf63a34e]  \n",
       "1                 [680dd6d2a970a49082fa4f34bf63a34e]  \n",
       "2                 [680dd6d2a970a49082fa4f34bf63a34e]  \n",
       "3  [01e84646075b255eab0a34d872336a89, 28f242c4515...  \n",
       "4                 [da3ca9f93aac15c67f6acf3cca2fc229]  "
      ],
      "text/html": [
       "<div>\n",
       "<style scoped>\n",
       "    .dataframe tbody tr th:only-of-type {\n",
       "        vertical-align: middle;\n",
       "    }\n",
       "\n",
       "    .dataframe tbody tr th {\n",
       "        vertical-align: top;\n",
       "    }\n",
       "\n",
       "    .dataframe thead th {\n",
       "        text-align: right;\n",
       "    }\n",
       "</style>\n",
       "<table border=\"1\" class=\"dataframe\">\n",
       "  <thead>\n",
       "    <tr style=\"text-align: right;\">\n",
       "      <th></th>\n",
       "      <th>source</th>\n",
       "      <th>target</th>\n",
       "      <th>id</th>\n",
       "      <th>rank</th>\n",
       "      <th>weight</th>\n",
       "      <th>human_readable_id</th>\n",
       "      <th>description</th>\n",
       "      <th>text_unit_ids</th>\n",
       "    </tr>\n",
       "  </thead>\n",
       "  <tbody>\n",
       "    <tr>\n",
       "      <th>0</th>\n",
       "      <td>\"PROJECT GUTENBERG\"</td>\n",
       "      <td>\"A CHRISTMAS CAROL\"</td>\n",
       "      <td>b84d71ed9c3b45819eb3205fd28e13a0</td>\n",
       "      <td>20</td>\n",
       "      <td>1.0</td>\n",
       "      <td>0</td>\n",
       "      <td>\"Project Gutenberg is responsible for releasin...</td>\n",
       "      <td>[680dd6d2a970a49082fa4f34bf63a34e]</td>\n",
       "    </tr>\n",
       "    <tr>\n",
       "      <th>1</th>\n",
       "      <td>\"PROJECT GUTENBERG\"</td>\n",
       "      <td>\"SUZANNE SHELL\"</td>\n",
       "      <td>b0b464bc92a541e48547fe9738378dab</td>\n",
       "      <td>15</td>\n",
       "      <td>1.0</td>\n",
       "      <td>1</td>\n",
       "      <td>\"Suzanne Shell produced the eBook version of '...</td>\n",
       "      <td>[680dd6d2a970a49082fa4f34bf63a34e]</td>\n",
       "    </tr>\n",
       "    <tr>\n",
       "      <th>2</th>\n",
       "      <td>\"PROJECT GUTENBERG\"</td>\n",
       "      <td>\"JANET BLENKINSHIP\"</td>\n",
       "      <td>44c65dda6fb7472dae36f6eea720ab47</td>\n",
       "      <td>15</td>\n",
       "      <td>1.0</td>\n",
       "      <td>2</td>\n",
       "      <td>\"Janet Blenkinship produced the eBook version ...</td>\n",
       "      <td>[680dd6d2a970a49082fa4f34bf63a34e]</td>\n",
       "    </tr>\n",
       "    <tr>\n",
       "      <th>3</th>\n",
       "      <td>\"PROJECT GUTENBERG\"</td>\n",
       "      <td>\"UNITED STATES\"</td>\n",
       "      <td>5d97ff82691c4482973d73d1860e4757</td>\n",
       "      <td>15</td>\n",
       "      <td>8.0</td>\n",
       "      <td>3</td>\n",
       "      <td>Project Gutenberg operates within the United S...</td>\n",
       "      <td>[01e84646075b255eab0a34d872336a89, 28f242c4515...</td>\n",
       "    </tr>\n",
       "    <tr>\n",
       "      <th>4</th>\n",
       "      <td>\"PROJECT GUTENBERG\"</td>\n",
       "      <td>\"GENERAL TERMS OF USE AND REDISTRIBUTING PROJE...</td>\n",
       "      <td>2567445079794d1e84f17abc48776002</td>\n",
       "      <td>14</td>\n",
       "      <td>1.0</td>\n",
       "      <td>4</td>\n",
       "      <td>\"Project Gutenberg establishes and enforces th...</td>\n",
       "      <td>[da3ca9f93aac15c67f6acf3cca2fc229]</td>\n",
       "    </tr>\n",
       "  </tbody>\n",
       "</table>\n",
       "</div>"
      ]
     },
     "execution_count": 15,
     "metadata": {},
     "output_type": "execute_result"
    }
   ],
   "execution_count": 15
  },
  {
   "metadata": {
    "ExecuteTime": {
     "end_time": "2024-09-12T11:22:34.285926Z",
     "start_time": "2024-09-12T11:22:33.709600Z"
    }
   },
   "cell_type": "code",
   "source": [
    "rel_statement = \"\"\"\n",
    "    MATCH (source:__Entity__ {name:replace(value.source,'\"','')})\n",
    "    MATCH (target:__Entity__ {name:replace(value.target,'\"','')})\n",
    "    // not necessary to merge on id as there is only one relationship per pair\n",
    "    MERGE (source)-[rel:RELATED {id: value.id}]->(target)\n",
    "    SET rel += value {.rank, .weight, .human_readable_id, .description, .text_unit_ids}\n",
    "    RETURN count(*) as createdRels\n",
    "\"\"\"\n",
    "\n",
    "batched_import(rel_statement, rel_df)"
   ],
   "id": "2093a0bc1b473150",
   "outputs": [
    {
     "name": "stdout",
     "output_type": "stream",
     "text": [
      "{'_contains_updates': True, 'properties_set': 1710}\n",
      "342 rows in 0.5565528869628906 s.\n"
     ]
    },
    {
     "data": {
      "text/plain": [
       "342"
      ]
     },
     "execution_count": 16,
     "metadata": {},
     "output_type": "execute_result"
    }
   ],
   "execution_count": 16
  },
  {
   "metadata": {
    "ExecuteTime": {
     "end_time": "2024-09-12T11:23:05.979333Z",
     "start_time": "2024-09-12T11:23:05.958990Z"
    }
   },
   "cell_type": "code",
   "source": [
    "community_df = pd.read_parquet('/Users/shaansuri/Downloads/artifacts/create_final_communities.parquet',\n",
    "                     columns=[\"id\",\"level\",\"title\",\"text_unit_ids\",\"relationship_ids\"])\n",
    "print(community_df.head(2))"
   ],
   "id": "4ff12d97f04b2987",
   "outputs": [
    {
     "name": "stdout",
     "output_type": "stream",
     "text": [
      "  id  level        title                                      text_unit_ids  \\\n",
      "0  2      0  Community 2  [0546d296a4d3bb0486bd0c94c01dc9be,0d6bc6e701a0...   \n",
      "1  4      0  Community 4  [054bdcba0a3690b43609d9226a47f84d,3a450ed2b7fb...   \n",
      "\n",
      "                                    relationship_ids  \n",
      "0  [ba481175ee1d4329bf07757a30abd3a1, 8d8da35190b...  \n",
      "1  [929f30875e1744b49e7b416eaf5a790c, 4920fda0318...  \n"
     ]
    }
   ],
   "execution_count": 18
  },
  {
   "metadata": {
    "ExecuteTime": {
     "end_time": "2024-09-12T11:23:11.143628Z",
     "start_time": "2024-09-12T11:23:10.054690Z"
    }
   },
   "cell_type": "code",
   "source": [
    "statement = \"\"\"\n",
    "MERGE (c:__Community__ {community:value.id})\n",
    "SET c += value {.level, .title}\n",
    "/*\n",
    "UNWIND value.text_unit_ids as text_unit_id\n",
    "MATCH (t:__Chunk__ {id:text_unit_id})\n",
    "MERGE (c)-[:HAS_CHUNK]->(t)\n",
    "WITH distinct c, value\n",
    "*/\n",
    "WITH *\n",
    "UNWIND value.relationship_ids as rel_id\n",
    "MATCH (start:__Entity__)-[:RELATED {id:rel_id}]->(end:__Entity__)\n",
    "MERGE (start)-[:IN_COMMUNITY]->(c)\n",
    "MERGE (end)-[:IN_COMMUNITY]->(c)\n",
    "RETURN count(distinct c) as createdCommunities\n",
    "\"\"\"\n",
    "\n",
    "batched_import(statement, community_df)"
   ],
   "id": "d77c905ee661260b",
   "outputs": [
    {
     "name": "stdout",
     "output_type": "stream",
     "text": [
      "{'_contains_updates': True, 'properties_set': 94}\n",
      "47 rows in 1.0728602409362793 s.\n"
     ]
    },
    {
     "data": {
      "text/plain": [
       "47"
      ]
     },
     "execution_count": 19,
     "metadata": {},
     "output_type": "execute_result"
    }
   ],
   "execution_count": 19
  },
  {
   "metadata": {
    "ExecuteTime": {
     "end_time": "2024-09-12T11:24:10.649544Z",
     "start_time": "2024-09-12T11:24:10.615009Z"
    }
   },
   "cell_type": "code",
   "source": [
    "community_report_df = pd.read_parquet('/Users/shaansuri/Downloads/artifacts/create_final_community_reports.parquet',\n",
    "                               columns=[\"id\",\"community\",\"level\",\"title\",\"summary\", \"findings\",\"rank\",\"rank_explanation\",\"full_content\"])\n",
    "community_report_df.head(2)"
   ],
   "id": "74302f73803a08a5",
   "outputs": [
    {
     "data": {
      "text/plain": [
       "                                     id community  level  \\\n",
       "0  e7822326-4da8-4954-afa9-be7f4f5791a5        42      2   \n",
       "1  8a5afac1-99ef-4f01-a1b1-f044ce392ff9        43      2   \n",
       "\n",
       "                                               title  \\\n",
       "0  Scrooge's Supernatural Encounters: Marley's Gh...   \n",
       "1  The Ghost's Influence on Scrooge's Transformation   \n",
       "\n",
       "                                             summary  \\\n",
       "0  This report delves into the pivotal supernatur...   \n",
       "1  This report delves into the pivotal role of 'T...   \n",
       "\n",
       "                                            findings  rank  \\\n",
       "0  [{'explanation': 'Marley's Ghost plays a cruci...   8.0   \n",
       "1  [{'explanation': 'The Ghost, identified at tim...   8.5   \n",
       "\n",
       "                                    rank_explanation  \\\n",
       "0  The impact severity rating is high due to the ...   \n",
       "1  The impact severity rating is high due to the ...   \n",
       "\n",
       "                                        full_content  \n",
       "0  # Scrooge's Supernatural Encounters: Marley's ...  \n",
       "1  # The Ghost's Influence on Scrooge's Transform...  "
      ],
      "text/html": [
       "<div>\n",
       "<style scoped>\n",
       "    .dataframe tbody tr th:only-of-type {\n",
       "        vertical-align: middle;\n",
       "    }\n",
       "\n",
       "    .dataframe tbody tr th {\n",
       "        vertical-align: top;\n",
       "    }\n",
       "\n",
       "    .dataframe thead th {\n",
       "        text-align: right;\n",
       "    }\n",
       "</style>\n",
       "<table border=\"1\" class=\"dataframe\">\n",
       "  <thead>\n",
       "    <tr style=\"text-align: right;\">\n",
       "      <th></th>\n",
       "      <th>id</th>\n",
       "      <th>community</th>\n",
       "      <th>level</th>\n",
       "      <th>title</th>\n",
       "      <th>summary</th>\n",
       "      <th>findings</th>\n",
       "      <th>rank</th>\n",
       "      <th>rank_explanation</th>\n",
       "      <th>full_content</th>\n",
       "    </tr>\n",
       "  </thead>\n",
       "  <tbody>\n",
       "    <tr>\n",
       "      <th>0</th>\n",
       "      <td>e7822326-4da8-4954-afa9-be7f4f5791a5</td>\n",
       "      <td>42</td>\n",
       "      <td>2</td>\n",
       "      <td>Scrooge's Supernatural Encounters: Marley's Gh...</td>\n",
       "      <td>This report delves into the pivotal supernatur...</td>\n",
       "      <td>[{'explanation': 'Marley's Ghost plays a cruci...</td>\n",
       "      <td>8.0</td>\n",
       "      <td>The impact severity rating is high due to the ...</td>\n",
       "      <td># Scrooge's Supernatural Encounters: Marley's ...</td>\n",
       "    </tr>\n",
       "    <tr>\n",
       "      <th>1</th>\n",
       "      <td>8a5afac1-99ef-4f01-a1b1-f044ce392ff9</td>\n",
       "      <td>43</td>\n",
       "      <td>2</td>\n",
       "      <td>The Ghost's Influence on Scrooge's Transformation</td>\n",
       "      <td>This report delves into the pivotal role of 'T...</td>\n",
       "      <td>[{'explanation': 'The Ghost, identified at tim...</td>\n",
       "      <td>8.5</td>\n",
       "      <td>The impact severity rating is high due to the ...</td>\n",
       "      <td># The Ghost's Influence on Scrooge's Transform...</td>\n",
       "    </tr>\n",
       "  </tbody>\n",
       "</table>\n",
       "</div>"
      ]
     },
     "execution_count": 20,
     "metadata": {},
     "output_type": "execute_result"
    }
   ],
   "execution_count": 20
  },
  {
   "metadata": {
    "ExecuteTime": {
     "end_time": "2024-09-12T11:24:31.432488Z",
     "start_time": "2024-09-12T11:24:30.892404Z"
    }
   },
   "cell_type": "code",
   "source": [
    "community_statement = \"\"\"\n",
    "MERGE (c:__Community__ {community:value.community})\n",
    "SET c += value {.level, .title, .rank, .rank_explanation, .full_content, .summary}\n",
    "WITH c, value\n",
    "UNWIND range(0, size(value.findings)-1) AS finding_idx\n",
    "WITH c, value, finding_idx, value.findings[finding_idx] as finding\n",
    "MERGE (c)-[:HAS_FINDING]->(f:Finding {id:finding_idx})\n",
    "SET f += finding\n",
    "\"\"\"\n",
    "batched_import(community_statement, community_report_df)"
   ],
   "id": "d804b3675a2e92ee",
   "outputs": [
    {
     "name": "stdout",
     "output_type": "stream",
     "text": [
      "{'_contains_updates': True, 'properties_set': 682}\n",
      "47 rows in 0.533484935760498 s.\n"
     ]
    },
    {
     "data": {
      "text/plain": [
       "47"
      ]
     },
     "execution_count": 21,
     "metadata": {},
     "output_type": "execute_result"
    }
   ],
   "execution_count": 21
  }
 ],
 "metadata": {
  "kernelspec": {
   "display_name": "Python 3",
   "language": "python",
   "name": "python3"
  },
  "language_info": {
   "codemirror_mode": {
    "name": "ipython",
    "version": 2
   },
   "file_extension": ".py",
   "mimetype": "text/x-python",
   "name": "python",
   "nbconvert_exporter": "python",
   "pygments_lexer": "ipython2",
   "version": "2.7.6"
  }
 },
 "nbformat": 4,
 "nbformat_minor": 5
}
