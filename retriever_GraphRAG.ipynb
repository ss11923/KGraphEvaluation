{
 "cells": [
  {
   "cell_type": "code",
   "id": "initial_id",
   "metadata": {
    "collapsed": true,
    "ExecuteTime": {
     "end_time": "2024-09-26T12:18:37.382298Z",
     "start_time": "2024-09-26T12:18:36.216953Z"
    }
   },
   "source": [
    "import os\n",
    "import getpass\n",
    "from neo4j import GraphDatabase, Result\n",
    "import pandas as pd\n",
    "import seaborn as sns\n",
    "import matplotlib.pyplot as plt\n",
    "import tiktoken\n",
    "import numpy as np\n",
    "from langchain_openai import OpenAIEmbeddings, ChatOpenAI\n",
    "from langchain_community.vectorstores import Neo4jVector\n",
    "from langchain_community.graphs import Neo4jGraph\n",
    "from langchain_core.prompts import ChatPromptTemplate\n",
    "from langchain_core.output_parsers import StrOutputParser\n",
    "from llama_index.core.schema import TextNode\n",
    "from llama_index.core.vector_stores.utils import node_to_metadata_dict\n",
    "from llama_index.vector_stores.neo4jvector import Neo4jVectorStore\n",
    "from llama_index.core import VectorStoreIndex\n",
    "from tqdm import tqdm"
   ],
   "outputs": [],
   "execution_count": 1
  },
  {
   "metadata": {
    "ExecuteTime": {
     "end_time": "2024-09-26T12:18:39.469061Z",
     "start_time": "2024-09-26T12:18:39.464712Z"
    }
   },
   "cell_type": "code",
   "source": "driver = GraphDatabase.driver(\"bolt://localhost:7687\", auth=(\"neo4j\", \"password\"))",
   "id": "24265929592ebdd0",
   "outputs": [],
   "execution_count": 2
  },
  {
   "metadata": {
    "ExecuteTime": {
     "end_time": "2024-09-26T13:31:51.272195Z",
     "start_time": "2024-09-26T13:31:51.267381Z"
    }
   },
   "cell_type": "code",
   "source": [
    "def db_query(cypher: str, params: dict[str, any] = {}) -> pd.DataFrame:\n",
    "    \"\"\"Executes a Cypher statement and returns a DataFrame\"\"\"\n",
    "    return driver.execute_query(\n",
    "        cypher, parameters_=params, result_transformer_=Result.to_df\n",
    "    )"
   ],
   "id": "45fd2f3aa356473f",
   "outputs": [],
   "execution_count": 13
  },
  {
   "metadata": {
    "ExecuteTime": {
     "end_time": "2024-09-26T13:31:54.457430Z",
     "start_time": "2024-09-26T13:31:54.304655Z"
    }
   },
   "cell_type": "code",
   "source": [
    "db_query(\n",
    "  \"MATCH (n:__Chunk__) RETURN n.n_tokens as token_count, count(*) AS count\"\n",
    ")"
   ],
   "id": "3f51191804fade4d",
   "outputs": [
    {
     "data": {
      "text/plain": [
       "   token_count  count\n",
       "0          300    230\n",
       "1          155      1"
      ],
      "text/html": [
       "<div>\n",
       "<style scoped>\n",
       "    .dataframe tbody tr th:only-of-type {\n",
       "        vertical-align: middle;\n",
       "    }\n",
       "\n",
       "    .dataframe tbody tr th {\n",
       "        vertical-align: top;\n",
       "    }\n",
       "\n",
       "    .dataframe thead th {\n",
       "        text-align: right;\n",
       "    }\n",
       "</style>\n",
       "<table border=\"1\" class=\"dataframe\">\n",
       "  <thead>\n",
       "    <tr style=\"text-align: right;\">\n",
       "      <th></th>\n",
       "      <th>token_count</th>\n",
       "      <th>count</th>\n",
       "    </tr>\n",
       "  </thead>\n",
       "  <tbody>\n",
       "    <tr>\n",
       "      <th>0</th>\n",
       "      <td>300</td>\n",
       "      <td>230</td>\n",
       "    </tr>\n",
       "    <tr>\n",
       "      <th>1</th>\n",
       "      <td>155</td>\n",
       "      <td>1</td>\n",
       "    </tr>\n",
       "  </tbody>\n",
       "</table>\n",
       "</div>"
      ]
     },
     "execution_count": 14,
     "metadata": {},
     "output_type": "execute_result"
    }
   ],
   "execution_count": 14
  },
  {
   "metadata": {
    "ExecuteTime": {
     "end_time": "2024-09-26T13:31:56.849111Z",
     "start_time": "2024-09-26T13:31:56.671680Z"
    }
   },
   "cell_type": "code",
   "source": [
    "db_query(\n",
    "  \"MATCH (n:__Entity__) RETURN n.name AS name, n.description AS description LIMIT 1\"\n",
    ")"
   ],
   "id": "ccfaf155dfc66cdd",
   "outputs": [
    {
     "data": {
      "text/plain": [
       "                name                                        description\n",
       "0  PROJECT GUTENBERG  Project Gutenberg is a pioneering organization..."
      ],
      "text/html": [
       "<div>\n",
       "<style scoped>\n",
       "    .dataframe tbody tr th:only-of-type {\n",
       "        vertical-align: middle;\n",
       "    }\n",
       "\n",
       "    .dataframe tbody tr th {\n",
       "        vertical-align: top;\n",
       "    }\n",
       "\n",
       "    .dataframe thead th {\n",
       "        text-align: right;\n",
       "    }\n",
       "</style>\n",
       "<table border=\"1\" class=\"dataframe\">\n",
       "  <thead>\n",
       "    <tr style=\"text-align: right;\">\n",
       "      <th></th>\n",
       "      <th>name</th>\n",
       "      <th>description</th>\n",
       "    </tr>\n",
       "  </thead>\n",
       "  <tbody>\n",
       "    <tr>\n",
       "      <th>0</th>\n",
       "      <td>PROJECT GUTENBERG</td>\n",
       "      <td>Project Gutenberg is a pioneering organization...</td>\n",
       "    </tr>\n",
       "  </tbody>\n",
       "</table>\n",
       "</div>"
      ]
     },
     "execution_count": 15,
     "metadata": {},
     "output_type": "execute_result"
    }
   ],
   "execution_count": 15
  },
  {
   "metadata": {
    "ExecuteTime": {
     "end_time": "2024-09-13T15:18:30.276055Z",
     "start_time": "2024-09-13T15:18:30.229600Z"
    }
   },
   "cell_type": "code",
   "source": [
    "db_query(\n",
    "  \"MATCH ()-[n:RELATED]->() RETURN n.description AS description LIMIT 5\"\n",
    ")"
   ],
   "id": "80f14447ebeb4b80",
   "outputs": [
    {
     "data": {
      "text/plain": [
       "                                         description\n",
       "0  \"Project Gutenberg is responsible for releasin...\n",
       "1  \"Suzanne Shell produced the eBook version of '...\n",
       "2  \"Janet Blenkinship produced the eBook version ...\n",
       "3  Project Gutenberg operates within the United S...\n",
       "4  \"Project Gutenberg establishes and enforces th..."
      ],
      "text/html": [
       "<div>\n",
       "<style scoped>\n",
       "    .dataframe tbody tr th:only-of-type {\n",
       "        vertical-align: middle;\n",
       "    }\n",
       "\n",
       "    .dataframe tbody tr th {\n",
       "        vertical-align: top;\n",
       "    }\n",
       "\n",
       "    .dataframe thead th {\n",
       "        text-align: right;\n",
       "    }\n",
       "</style>\n",
       "<table border=\"1\" class=\"dataframe\">\n",
       "  <thead>\n",
       "    <tr style=\"text-align: right;\">\n",
       "      <th></th>\n",
       "      <th>description</th>\n",
       "    </tr>\n",
       "  </thead>\n",
       "  <tbody>\n",
       "    <tr>\n",
       "      <th>0</th>\n",
       "      <td>\"Project Gutenberg is responsible for releasin...</td>\n",
       "    </tr>\n",
       "    <tr>\n",
       "      <th>1</th>\n",
       "      <td>\"Suzanne Shell produced the eBook version of '...</td>\n",
       "    </tr>\n",
       "    <tr>\n",
       "      <th>2</th>\n",
       "      <td>\"Janet Blenkinship produced the eBook version ...</td>\n",
       "    </tr>\n",
       "    <tr>\n",
       "      <th>3</th>\n",
       "      <td>Project Gutenberg operates within the United S...</td>\n",
       "    </tr>\n",
       "    <tr>\n",
       "      <th>4</th>\n",
       "      <td>\"Project Gutenberg establishes and enforces th...</td>\n",
       "    </tr>\n",
       "  </tbody>\n",
       "</table>\n",
       "</div>"
      ]
     },
     "execution_count": 22,
     "metadata": {},
     "output_type": "execute_result"
    }
   ],
   "execution_count": 22
  },
  {
   "metadata": {
    "ExecuteTime": {
     "end_time": "2024-09-13T15:18:32.020784Z",
     "start_time": "2024-09-13T15:18:31.966470Z"
    }
   },
   "cell_type": "code",
   "source": [
    "db_query(\"\"\"\n",
    "  MATCH (n:__Community__) \n",
    "  RETURN n.title AS title, n.summary AS summary, n.full_content AS full_content LIMIT 1\n",
    "\"\"\")"
   ],
   "id": "72a61907ec2313f6",
   "outputs": [
    {
     "data": {
      "text/plain": [
       "                                               title  \\\n",
       "0  The Cratchit Family: A Study of Resilience and...   \n",
       "\n",
       "                                             summary  \\\n",
       "0  The Cratchit family, central to the narrative,...   \n",
       "\n",
       "                                        full_content  \n",
       "0  # The Cratchit Family: A Study of Resilience a...  "
      ],
      "text/html": [
       "<div>\n",
       "<style scoped>\n",
       "    .dataframe tbody tr th:only-of-type {\n",
       "        vertical-align: middle;\n",
       "    }\n",
       "\n",
       "    .dataframe tbody tr th {\n",
       "        vertical-align: top;\n",
       "    }\n",
       "\n",
       "    .dataframe thead th {\n",
       "        text-align: right;\n",
       "    }\n",
       "</style>\n",
       "<table border=\"1\" class=\"dataframe\">\n",
       "  <thead>\n",
       "    <tr style=\"text-align: right;\">\n",
       "      <th></th>\n",
       "      <th>title</th>\n",
       "      <th>summary</th>\n",
       "      <th>full_content</th>\n",
       "    </tr>\n",
       "  </thead>\n",
       "  <tbody>\n",
       "    <tr>\n",
       "      <th>0</th>\n",
       "      <td>The Cratchit Family: A Study of Resilience and...</td>\n",
       "      <td>The Cratchit family, central to the narrative,...</td>\n",
       "      <td># The Cratchit Family: A Study of Resilience a...</td>\n",
       "    </tr>\n",
       "  </tbody>\n",
       "</table>\n",
       "</div>"
      ]
     },
     "execution_count": 23,
     "metadata": {},
     "output_type": "execute_result"
    }
   ],
   "execution_count": 23
  },
  {
   "metadata": {
    "ExecuteTime": {
     "end_time": "2024-09-27T10:21:25.690286Z",
     "start_time": "2024-09-27T10:21:25.656592Z"
    }
   },
   "cell_type": "code",
   "source": [
    "entity_df_2 = db_query(\n",
    "    \"\"\"\n",
    "MATCH (d:__Chunk__)\n",
    "RETURN count {(d)-[:HAS_ENTITY]->()} AS entity_count\n",
    "\"\"\"\n",
    ")"
   ],
   "id": "d097065637b101c",
   "outputs": [],
   "execution_count": 24
  },
  {
   "metadata": {
    "ExecuteTime": {
     "end_time": "2024-09-27T10:20:32.247146Z",
     "start_time": "2024-09-27T10:20:32.132745Z"
    }
   },
   "cell_type": "code",
   "source": [
    "# Plot distribution\n",
    "plt.figure(figsize=(10, 6))\n",
    "sns.histplot(entity_df_2['entity_count'], kde=True, bins=15, color='skyblue')\n",
    "plt.axvline(entity_df_2['entity_count'].mean(), color='red', linestyle='dashed', linewidth=1)\n",
    "plt.axvline(entity_df_2['entity_count'].median(), color='green', linestyle='dashed', linewidth=1)\n",
    "plt.xlabel('Entity Count', fontsize=12)\n",
    "plt.ylabel('Frequency', fontsize=12)\n",
    "plt.title('Distribution of Entity Count', fontsize=15)\n",
    "plt.legend({'Mean': entity_df_2['entity_count'].mean(), 'Median': entity_df_2['entity_count'].median()})\n",
    "plt.show()\n",
    "\n",
    "print(entity_df_2['entity_count'].mean())\n",
    "print(entity_df_2['entity_count'].median())"
   ],
   "id": "6e1c34e7b194cdff",
   "outputs": [
    {
     "data": {
      "text/plain": [
       "<Figure size 1000x600 with 1 Axes>"
      ],
      "image/png": "[encoded data removed]"
     },
     "metadata": {},
     "output_type": "display_data"
    },
    {
     "name": "stdout",
     "output_type": "stream",
     "text": [
      "3.588744588744589\n",
      "3.0\n"
     ]
    }
   ],
   "execution_count": 20
  },
  {
   "metadata": {
    "ExecuteTime": {
     "end_time": "2024-09-27T10:27:26.852099Z",
     "start_time": "2024-09-27T10:27:26.806459Z"
    }
   },
   "cell_type": "code",
   "source": [
    "degree_dist_df = db_query(\n",
    "    \"\"\"\n",
    "MATCH (e:__Entity__)\n",
    "RETURN e.name, count {(e)-[:RELATED]-()} AS node_degree\n",
    "ORDER BY node_degree DESC\n",
    "    \"\"\"\n",
    ")\n",
    "\n",
    "display(degree_dist_df.head(10))"
   ],
   "id": "a7b8ac1b90edf4c0",
   "outputs": [
    {
     "data": {
      "text/plain": [
       "              e.name  node_degree\n",
       "0            SCROOGE          120\n",
       "1      MRS. CRATCHIT           16\n",
       "2       BOB CRATCHIT           14\n",
       "3  PROJECT GUTENBERG           13\n",
       "4   EBENEZER SCROOGE           12\n",
       "5          CHRISTMAS           12\n",
       "6           FEZZIWIG           11\n",
       "7          THE GHOST           11\n",
       "8           TINY TIM           11\n",
       "9                BOB           11"
      ],
      "text/html": [
       "<div>\n",
       "<style scoped>\n",
       "    .dataframe tbody tr th:only-of-type {\n",
       "        vertical-align: middle;\n",
       "    }\n",
       "\n",
       "    .dataframe tbody tr th {\n",
       "        vertical-align: top;\n",
       "    }\n",
       "\n",
       "    .dataframe thead th {\n",
       "        text-align: right;\n",
       "    }\n",
       "</style>\n",
       "<table border=\"1\" class=\"dataframe\">\n",
       "  <thead>\n",
       "    <tr style=\"text-align: right;\">\n",
       "      <th></th>\n",
       "      <th>e.name</th>\n",
       "      <th>node_degree</th>\n",
       "    </tr>\n",
       "  </thead>\n",
       "  <tbody>\n",
       "    <tr>\n",
       "      <th>0</th>\n",
       "      <td>SCROOGE</td>\n",
       "      <td>120</td>\n",
       "    </tr>\n",
       "    <tr>\n",
       "      <th>1</th>\n",
       "      <td>MRS. CRATCHIT</td>\n",
       "      <td>16</td>\n",
       "    </tr>\n",
       "    <tr>\n",
       "      <th>2</th>\n",
       "      <td>BOB CRATCHIT</td>\n",
       "      <td>14</td>\n",
       "    </tr>\n",
       "    <tr>\n",
       "      <th>3</th>\n",
       "      <td>PROJECT GUTENBERG</td>\n",
       "      <td>13</td>\n",
       "    </tr>\n",
       "    <tr>\n",
       "      <th>4</th>\n",
       "      <td>EBENEZER SCROOGE</td>\n",
       "      <td>12</td>\n",
       "    </tr>\n",
       "    <tr>\n",
       "      <th>5</th>\n",
       "      <td>CHRISTMAS</td>\n",
       "      <td>12</td>\n",
       "    </tr>\n",
       "    <tr>\n",
       "      <th>6</th>\n",
       "      <td>FEZZIWIG</td>\n",
       "      <td>11</td>\n",
       "    </tr>\n",
       "    <tr>\n",
       "      <th>7</th>\n",
       "      <td>THE GHOST</td>\n",
       "      <td>11</td>\n",
       "    </tr>\n",
       "    <tr>\n",
       "      <th>8</th>\n",
       "      <td>TINY TIM</td>\n",
       "      <td>11</td>\n",
       "    </tr>\n",
       "    <tr>\n",
       "      <th>9</th>\n",
       "      <td>BOB</td>\n",
       "      <td>11</td>\n",
       "    </tr>\n",
       "  </tbody>\n",
       "</table>\n",
       "</div>"
      ]
     },
     "metadata": {},
     "output_type": "display_data"
    }
   ],
   "execution_count": 36
  },
  {
   "metadata": {
    "ExecuteTime": {
     "end_time": "2024-09-27T10:22:40.196637Z",
     "start_time": "2024-09-27T10:22:39.981488Z"
    }
   },
   "cell_type": "code",
   "source": [
    "#Calculate mean and median\n",
    "mean_degree = np.mean(degree_dist_df['node_degree'])\n",
    "percentiles = np.percentile(degree_dist_df['node_degree'],[25,50,75,90])\n",
    "\n",
    "#Create a histogram with a logarithmic scale\n",
    "plt.figure(figsize=(12,6))\n",
    "sns.histplot(degree_dist_df['node_degree'], bins=50, kde=False, color=\"blue\")\n",
    "plt.yscale('log')\n",
    "plt.xlabel('Node Degree')\n",
    "plt.ylabel('Count (log scale)')\n",
    "plt.title(\"Node Degree Distribution\")\n",
    "\n",
    "#Add central tendency/percentile lines\n",
    "plt.axvline(mean_degree, color=\"red\", linestyle=\"dashed\", linewidth=1, label=f'Mean: {mean_degree:.2f}')\n",
    "plt.axvline(percentiles[0], color=\"purple\", linestyle='dashed', linewidth=1, label=f'25th Percentile: {percentiles[0]:.2f}')\n",
    "plt.axvline(percentiles[1], color=\"orange\", linestyle='dashed', linewidth=1, label=f'50th Percentile: {percentiles[1]:.2f}')\n",
    "plt.axvline(percentiles[2], color=\"yellow\", linestyle='dashed', linewidth=1, label=f'75th Percentile: {percentiles[2]:.2f}')\n",
    "plt.axvline(percentiles[3], color=\"brown\", linestyle=\"dashed\", linewidth=1, label=f'90th Percentile: {percentiles[3]:.2f}')\n",
    "\n",
    "plt.legend()\n",
    "plt.show()\n",
    "\n",
    "print(degree_dist_df['node_degree'].mean())\n",
    "print(degree_dist_df['node_degree'].median())"
   ],
   "id": "38844ca9b54c7cc4",
   "outputs": [
    {
     "data": {
      "text/plain": [
       "<Figure size 1200x600 with 1 Axes>"
      ],
      "image/png": "[encoded data removed]"
     },
     "metadata": {},
     "output_type": "display_data"
    },
    {
     "name": "stdout",
     "output_type": "stream",
     "text": [
      "2.4693140794223827\n",
      "1.0\n"
     ]
    }
   ],
   "execution_count": 28
  },
  {
   "metadata": {
    "ExecuteTime": {
     "end_time": "2024-09-26T13:25:16.165915Z",
     "start_time": "2024-09-26T13:25:16.152331Z"
    }
   },
   "cell_type": "code",
   "source": [
    "db_query = (\"\"\"\n",
    "MATCH (n:__Entity__)-[:RELATED]->()\n",
    "WHERE node_degree = 120\n",
    "RETURN (n)\n",
    "\"\"\")"
   ],
   "id": "ebdf61e8343b11cd",
   "outputs": [],
   "execution_count": 7
  }
 ],
 "metadata": {
  "kernelspec": {
   "display_name": "Python 3",
   "language": "python",
   "name": "python3"
  },
  "language_info": {
   "codemirror_mode": {
    "name": "ipython",
    "version": 2
   },
   "file_extension": ".py",
   "mimetype": "text/x-python",
   "name": "python",
   "nbconvert_exporter": "python",
   "pygments_lexer": "ipython2",
   "version": "2.7.6"
  }
 },
 "nbformat": 4,
 "nbformat_minor": 5
}
